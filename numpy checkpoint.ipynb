{
 "cells": [
  {
   "cell_type": "code",
   "execution_count": 49,
   "id": "96ac7df4",
   "metadata": {},
   "outputs": [
    {
     "name": "stdout",
     "output_type": "stream",
     "text": [
      "[[6, 4], [3, 7], [3, 2]]\n",
      "numbers greater than 5:  [6 7]\n",
      "[[ 4  7]\n",
      " [ 6 11]]\n",
      "[4.         4.33333333]\n",
      "[[6 4]\n",
      " [3 7]\n",
      " [3 2]]\n"
     ]
    }
   ],
   "source": [
    "#qst1\n",
    "import numpy as np\n",
    "x=array=np.array([[6,4],[3,7],[3,2]])\n",
    "list=array.tolist()\n",
    "print(list)\n",
    "#qst2\n",
    "array.trace()\n",
    "#qst3\n",
    "print(\"numbers greater than 5: \" ,array[array>5] )\n",
    "#qst4 (doing it manually )\n",
    "array1=np.array([[2,2],[3,7]])\n",
    "array2=np.array([[2,5],[3,4]])\n",
    "array3=array1+array2\n",
    "print(array3)\n",
    "#qst5\n",
    "print(np.mean(array, axis=0))\n",
    "print(array)\n"
   ]
  },
  {
   "cell_type": "code",
   "execution_count": null,
   "id": "dd9bd2e6",
   "metadata": {},
   "outputs": [],
   "source": []
  },
  {
   "cell_type": "code",
   "execution_count": null,
   "id": "56431faa",
   "metadata": {},
   "outputs": [],
   "source": []
  }
 ],
 "metadata": {
  "kernelspec": {
   "display_name": "Python 3 (ipykernel)",
   "language": "python",
   "name": "python3"
  },
  "language_info": {
   "codemirror_mode": {
    "name": "ipython",
    "version": 3
   },
   "file_extension": ".py",
   "mimetype": "text/x-python",
   "name": "python",
   "nbconvert_exporter": "python",
   "pygments_lexer": "ipython3",
   "version": "3.9.7"
  }
 },
 "nbformat": 4,
 "nbformat_minor": 5
}
